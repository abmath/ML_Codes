{
 "cells": [
  {
   "cell_type": "code",
   "execution_count": 1,
   "metadata": {},
   "outputs": [],
   "source": [
    "#Import dependencies\n",
    "\n",
    "import pandas as pd\n",
    "import numpy as np"
   ]
  },
  {
   "cell_type": "code",
   "execution_count": 58,
   "metadata": {},
   "outputs": [],
   "source": [
    "def read_data(location):\n",
    "    #global full_data\n",
    "    full_data = pd.read_csv(location)\n",
    "    return full_data"
   ]
  },
  {
   "cell_type": "code",
   "execution_count": 59,
   "metadata": {},
   "outputs": [],
   "source": [
    "location = \"/Users/abhinavmathur/Downloads/titanic/train.csv\"\n",
    "\n",
    "full_data = read_data(location)"
   ]
  },
  {
   "cell_type": "code",
   "execution_count": 60,
   "metadata": {},
   "outputs": [],
   "source": [
    "def data_dims(df):\n",
    "    global rows, columns\n",
    "    \n",
    "    rows = df.shape[0]\n",
    "    columns = df.shape[1]"
   ]
  },
  {
   "cell_type": "code",
   "execution_count": 52,
   "metadata": {},
   "outputs": [],
   "source": [
    "def missing_removal(df,cut_off):\n",
    "    #global subset\n",
    "    missing_count = df.isna().sum()\n",
    "    missing_count_temp = pd.DataFrame(missing_count)\n",
    "    missing_count_temp['vars'] = missing_count_temp.index\n",
    "    missing_count_temp['missing_perc'] = (missing_count_temp[0]/rows)*100\n",
    "    new_cols = missing_count_temp[missing_count_temp.missing_perc < cut_off]\n",
    "    new_cols_list = list(new_cols['vars'])\n",
    "    subset = df[df.columns.intersection(new_cols_list)]\n",
    "    return subset"
   ]
  },
  {
   "cell_type": "code",
   "execution_count": 56,
   "metadata": {},
   "outputs": [],
   "source": [
    "subset = missing_removal(full_data,5)"
   ]
  },
  {
   "cell_type": "code",
   "execution_count": 57,
   "metadata": {},
   "outputs": [
    {
     "data": {
      "text/plain": [
       "(891, 10)"
      ]
     },
     "execution_count": 57,
     "metadata": {},
     "output_type": "execute_result"
    }
   ],
   "source": [
    "subset.shape"
   ]
  },
  {
   "cell_type": "code",
   "execution_count": null,
   "metadata": {},
   "outputs": [],
   "source": []
  }
 ],
 "metadata": {
  "kernelspec": {
   "display_name": "Python 3",
   "language": "python",
   "name": "python3"
  },
  "language_info": {
   "codemirror_mode": {
    "name": "ipython",
    "version": 3
   },
   "file_extension": ".py",
   "mimetype": "text/x-python",
   "name": "python",
   "nbconvert_exporter": "python",
   "pygments_lexer": "ipython3",
   "version": "3.7.1"
  }
 },
 "nbformat": 4,
 "nbformat_minor": 2
}
