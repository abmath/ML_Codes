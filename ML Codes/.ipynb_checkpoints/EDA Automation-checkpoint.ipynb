{
 "cells": [
  {
   "cell_type": "code",
   "execution_count": 1,
   "metadata": {},
   "outputs": [],
   "source": [
    "#Import dependencies\n",
    "\n",
    "import pandas as pd\n",
    "import numpy as np"
   ]
  },
  {
   "cell_type": "code",
   "execution_count": 12,
   "metadata": {},
   "outputs": [],
   "source": [
    "def read_data(location):\n",
    "    global full_data\n",
    "    full_data = pd.read_csv(location)\n",
    "    "
   ]
  },
  {
   "cell_type": "code",
   "execution_count": 13,
   "metadata": {},
   "outputs": [],
   "source": [
    "location = \"/Users/abhinavmathur/Downloads/titanic/train.csv\"\n",
    "\n",
    "read_data(location)"
   ]
  },
  {
   "cell_type": "code",
   "execution_count": 16,
   "metadata": {},
   "outputs": [],
   "source": [
    "def data_dims(df):\n",
    "    global rows, columns\n",
    "    \n",
    "    rows = df.shape[0]\n",
    "    columns = df.shape[1]"
   ]
  },
  {
   "cell_type": "code",
   "execution_count": 38,
   "metadata": {},
   "outputs": [],
   "source": [
    "a = full_data.isna().sum()\n",
    "b = pd.DataFrame(a)\n",
    "b['vars'] = b.index\n",
    "b['missin_perc'] = (b[0]/rows)*100"
   ]
  },
  {
   "cell_type": "code",
   "execution_count": 45,
   "metadata": {},
   "outputs": [],
   "source": [
    "c = b[b.missin_perc < 50]"
   ]
  },
  {
   "cell_type": "code",
   "execution_count": 47,
   "metadata": {},
   "outputs": [],
   "source": [
    "def missing_removal(df,cut_off):\n",
    "    missing_count = df.isna().sum()\n",
    "    missing_count_temp = pd.DataFrame(missing_count)\n",
    "    missing_count_temp['vars'] = missing_count_temp.index\n",
    "    missing_count_temp['missing_perc'] = (missing_count_temp[0]/rows)*100\n",
    "    new_cols = missing_count_temp[missing_count_temp.missing_perc < cut_off]\n",
    "    new_cols_list = list(new_cols['vars'])\n",
    "    return(new_cols_list)"
   ]
  },
  {
   "cell_type": "code",
   "execution_count": 48,
   "metadata": {},
   "outputs": [
    {
     "data": {
      "text/plain": [
       "['PassengerId',\n",
       " 'Survived',\n",
       " 'Pclass',\n",
       " 'Name',\n",
       " 'Sex',\n",
       " 'Age',\n",
       " 'SibSp',\n",
       " 'Parch',\n",
       " 'Ticket',\n",
       " 'Fare',\n",
       " 'Embarked']"
      ]
     },
     "execution_count": 48,
     "metadata": {},
     "output_type": "execute_result"
    }
   ],
   "source": [
    "missing_removal(full_data,50)"
   ]
  },
  {
   "cell_type": "code",
   "execution_count": null,
   "metadata": {},
   "outputs": [],
   "source": []
  }
 ],
 "metadata": {
  "kernelspec": {
   "display_name": "Python 3",
   "language": "python",
   "name": "python3"
  },
  "language_info": {
   "codemirror_mode": {
    "name": "ipython",
    "version": 3
   },
   "file_extension": ".py",
   "mimetype": "text/x-python",
   "name": "python",
   "nbconvert_exporter": "python",
   "pygments_lexer": "ipython3",
   "version": "3.7.1"
  }
 },
 "nbformat": 4,
 "nbformat_minor": 2
}
