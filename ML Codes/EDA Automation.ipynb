{
 "cells": [
  {
   "cell_type": "code",
   "execution_count": 1,
   "metadata": {},
   "outputs": [],
   "source": [
    "#Import dependencies\n",
    "\n",
    "import pandas as pd\n",
    "import numpy as np\n",
    "import statistics as stat"
   ]
  },
  {
   "cell_type": "code",
   "execution_count": 2,
   "metadata": {},
   "outputs": [],
   "source": [
    "def read_data(location):\n",
    "    #global full_data\n",
    "    full_data = pd.read_csv(location)\n",
    "    return full_data"
   ]
  },
  {
   "cell_type": "code",
   "execution_count": 3,
   "metadata": {},
   "outputs": [],
   "source": [
    "location = \"/Users/abhinavmathur/Downloads/titanic/train.csv\"\n",
    "\n",
    "full_data = read_data(location)"
   ]
  },
  {
   "cell_type": "code",
   "execution_count": 4,
   "metadata": {},
   "outputs": [],
   "source": [
    "def data_dims(df):\n",
    "    global rows, columns\n",
    "    \n",
    "    rows = df.shape[0]\n",
    "    columns = df.shape[1]\n",
    "\n",
    "data_dims(full_data)"
   ]
  },
  {
   "cell_type": "code",
   "execution_count": 5,
   "metadata": {},
   "outputs": [],
   "source": [
    "def missing_removal(df,cut_off):\n",
    "    #global subset\n",
    "    missing_count = df.isna().sum()\n",
    "    missing_count_temp = pd.DataFrame(missing_count)\n",
    "    missing_count_temp['vars'] = missing_count_temp.index\n",
    "    missing_count_temp['missing_perc'] = (missing_count_temp[0]/rows)*100\n",
    "    new_cols = missing_count_temp[missing_count_temp.missing_perc < cut_off]\n",
    "    new_cols_list = list(new_cols['vars'])\n",
    "    subset = df[df.columns.intersection(new_cols_list)]\n",
    "    return subset"
   ]
  },
  {
   "cell_type": "code",
   "execution_count": 7,
   "metadata": {},
   "outputs": [],
   "source": [
    "subset = missing_removal(full_data,10)"
   ]
  },
  {
   "cell_type": "code",
   "execution_count": 8,
   "metadata": {},
   "outputs": [
    {
     "data": {
      "text/plain": [
       "PassengerId      int64\n",
       "Survived         int64\n",
       "Pclass           int64\n",
       "Name            object\n",
       "Sex             object\n",
       "SibSp            int64\n",
       "Parch            int64\n",
       "Ticket          object\n",
       "Fare           float64\n",
       "Embarked        object\n",
       "dtype: object"
      ]
     },
     "execution_count": 8,
     "metadata": {},
     "output_type": "execute_result"
    }
   ],
   "source": [
    "subset.dtypes"
   ]
  },
  {
   "cell_type": "code",
   "execution_count": 12,
   "metadata": {},
   "outputs": [],
   "source": [
    "def remove_non_essential_numeric(df,exclude):\n",
    "    full_list = []\n",
    "    for col in df.columns:\n",
    "        if np.issubdtype(df.col,np.number) == True and len(df.col.unique) > 10:\n",
    "            if np.nanstd(df.col) > exclude:\n",
    "                full_list.append(col)\n",
    "                return full_list         "
   ]
  },
  {
   "cell_type": "code",
   "execution_count": 19,
   "metadata": {},
   "outputs": [
    {
     "data": {
      "text/plain": [
       "['PassengerId', 'Fare']"
      ]
     },
     "execution_count": 19,
     "metadata": {},
     "output_type": "execute_result"
    }
   ],
   "source": [
    "full_list = []\n",
    "\n",
    "for col in subset.columns:\n",
    "    if np.issubdtype(subset[col],np.number) == True and len(subset[col].unique()) > 10:\n",
    "        if np.nanstd(subset[col]) > 4:\n",
    "            full_list.append(col)\n",
    "\n",
    "full_list"
   ]
  },
  {
   "cell_type": "code",
   "execution_count": null,
   "metadata": {},
   "outputs": [],
   "source": []
  }
 ],
 "metadata": {
  "kernelspec": {
   "display_name": "Python 3",
   "language": "python",
   "name": "python3"
  },
  "language_info": {
   "codemirror_mode": {
    "name": "ipython",
    "version": 3
   },
   "file_extension": ".py",
   "mimetype": "text/x-python",
   "name": "python",
   "nbconvert_exporter": "python",
   "pygments_lexer": "ipython3",
   "version": "3.7.1"
  }
 },
 "nbformat": 4,
 "nbformat_minor": 2
}
